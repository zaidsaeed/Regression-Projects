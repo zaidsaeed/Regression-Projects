{
 "cells": [
  {
   "cell_type": "code",
   "execution_count": 52,
   "metadata": {},
   "outputs": [],
   "source": [
    "import pandas as pd\n",
    "from sklearn import preprocessing\n",
    "import random"
   ]
  },
  {
   "cell_type": "code",
   "execution_count": 53,
   "metadata": {},
   "outputs": [
    {
     "name": "stdout",
     "output_type": "stream",
     "text": [
      "    Sample  Temperature  Rain/Snow  Km\n",
      "0        1          -22         10   2\n",
      "1        2          -24         12   0\n",
      "2        3          -15         20   3\n",
      "3        4           -8         13   4\n",
      "4        5           -5         40   3\n",
      "5        6            8         45   8\n",
      "6        7           -2          5  10\n",
      "7        8            5          5  12\n",
      "8        9           12          2  12\n",
      "9       10            8          5  14\n",
      "10      11           12         20  20\n",
      "11      12           13         15  20\n"
     ]
    }
   ],
   "source": [
    "Snow = {\n",
    "    'Sample': [1, 2, 3 , 4, 5, 6, 7, 8, 9, 10, 11, 12],\n",
    "    'Temperature': [-22, -24, -15, -8, -5, 8, -2, 5, 12, 8, 12, 13],\n",
    "    'Rain/Snow': [10, 12, 20, 13, 40, 45, 5, 5, 2, 5, 20, 15],\n",
    "    'Km': [2, 0, 3, 4, 3, 8, 10, 12, 12, 14, 20, 20]\n",
    "}\n",
    "\n",
    "df = pd.DataFrame(Snow, columns=['Sample', 'Temperature', 'Rain/Snow', 'Km'])\n",
    "\n",
    "print(df)"
   ]
  },
  {
   "cell_type": "code",
   "execution_count": 54,
   "metadata": {},
   "outputs": [],
   "source": [
    "x = df.values\n",
    "min_max_scaler = preprocessing.MinMaxScaler()\n",
    "x_scaled = min_max_scaler.fit_transform(x)\n",
    "df = pd.DataFrame(x_scaled)\n",
    "df.insert(0, 'Dummy', 1)"
   ]
  },
  {
   "cell_type": "code",
   "execution_count": 55,
   "metadata": {},
   "outputs": [
    {
     "name": "stdout",
     "output_type": "stream",
     "text": [
      "X\n",
      "[[1.         0.         0.05405405 0.18604651]\n",
      " [1.         0.09090909 0.         0.23255814]\n",
      " [1.         0.18181818 0.24324324 0.41860465]\n",
      " [1.         0.27272727 0.43243243 0.25581395]\n",
      " [1.         0.36363636 0.51351351 0.88372093]\n",
      " [1.         0.45454545 0.86486486 1.        ]\n",
      " [1.         0.54545455 0.59459459 0.06976744]\n",
      " [1.         0.63636364 0.78378378 0.06976744]\n",
      " [1.         0.72727273 0.97297297 0.        ]\n",
      " [1.         0.81818182 0.86486486 0.06976744]\n",
      " [1.         0.90909091 0.97297297 0.41860465]\n",
      " [1.         1.         1.         0.30232558]]\n",
      "[0.1  0.   0.15 0.2  0.15 0.4  0.5  0.6  0.6  0.7  1.   1.  ]\n"
     ]
    }
   ],
   "source": [
    "X = df.iloc[:, :-1].values\n",
    "print(\"X\")\n",
    "print(X)\n",
    "Y = df.iloc[:, -1].values\n",
    "print(Y)"
   ]
  },
  {
   "cell_type": "code",
   "execution_count": 56,
   "metadata": {},
   "outputs": [],
   "source": [
    "weights = [1, random.randint(1, 10), random.randint(1, 10), random.randint(1, 10)]"
   ]
  },
  {
   "cell_type": "code",
   "execution_count": 57,
   "metadata": {},
   "outputs": [],
   "source": [
    "def predict(inputData):\n",
    "    pred = 0\n",
    "    for x, w in zip(inputData, weights):\n",
    "        pred = pred + x*w\n",
    "    return pred"
   ]
  },
  {
   "cell_type": "code",
   "execution_count": 58,
   "metadata": {},
   "outputs": [],
   "source": [
    "def linearRegressor(X, Y, weights, alpha = 0.1):\n",
    "        print(\"initial weights are now: \" + str(weights))\n",
    "        for x,y in zip(X, Y):\n",
    "            pred = predict(x)\n",
    "            for i in range(0, len(weights)):\n",
    "                xi = x[i]\n",
    "                weights[i] = weights[i] + alpha*(y-pred)*(xi)\n",
    "            print(\"weights are now: \" + str(weights))"
   ]
  },
  {
   "cell_type": "code",
   "execution_count": 59,
   "metadata": {},
   "outputs": [
    {
     "name": "stdout",
     "output_type": "stream",
     "text": [
      "initial weights are now: [1, 5, 1, 10]\n",
      "weights are now: [0.7185480829666876, 5.0, 0.9847863828630642, 9.947636852644965]\n",
      "weights are now: [0.3698983372934974, 4.968304568575165, 0.9847863828630642, 9.866555516441897]\n",
      "weights are now: [-0.17939717315436876, 4.868432657584643, 0.8511739614027725, 9.63661786090558]\n",
      "weights are now: [-0.5575585459356234, 4.76529773773521, 0.6876447191189867, 9.539878905077819]\n",
      "weights are now: [-1.5384567970480365, 4.408607464603423, 0.18394021179099074, 8.673038590141267]\n",
      "weights are now: [-2.4282145673898072, 4.004172114448073, -0.5855800220181084, 7.783280819799496]\n",
      "weights are now: [-2.3732861863400787, 4.0341330495661065, -0.5529199035561078, 7.787113032430873]\n",
      "weights are now: [-2.3436668555669744, 4.052981714603536, -0.5297047524096204, 7.789179497368531]\n",
      "weights are now: [-2.2925236357519077, 4.090176783559948, -0.4799437817787447, 7.789179497368531]\n",
      "weights are now: [-2.340756561297789, 4.0507134808405905, -0.5216587444130203, 7.785814409539749]\n",
      "weights are now: [-2.6500894117939007, 3.7695017985713983, -0.8226312475984261, 7.656326239564633]\n",
      "weights are now: [-2.811237853884692, 3.608353356480607, -0.9837796896892175, 7.60760694311858]\n"
     ]
    }
   ],
   "source": [
    "linearRegressor(X, Y, weights)"
   ]
  },
  {
   "cell_type": "code",
   "execution_count": 60,
   "metadata": {},
   "outputs": [
    {
     "name": "stdout",
     "output_type": "stream",
     "text": [
      "[-2.811237853884692, 3.608353356480607, -0.9837796896892175, 7.60760694311858]\n"
     ]
    }
   ],
   "source": [
    "print(weights)"
   ]
  },
  {
   "cell_type": "code",
   "execution_count": 61,
   "metadata": {},
   "outputs": [
    {
     "name": "stdout",
     "output_type": "stream",
     "text": [
      "-1.4490464008049766\n"
     ]
    }
   ],
   "source": [
    "print(predict(X[0, :]))"
   ]
  },
  {
   "cell_type": "code",
   "execution_count": null,
   "metadata": {},
   "outputs": [],
   "source": []
  }
 ],
 "metadata": {
  "kernelspec": {
   "display_name": "Python 3",
   "language": "python",
   "name": "python3"
  },
  "language_info": {
   "codemirror_mode": {
    "name": "ipython",
    "version": 3
   },
   "file_extension": ".py",
   "mimetype": "text/x-python",
   "name": "python",
   "nbconvert_exporter": "python",
   "pygments_lexer": "ipython3",
   "version": "3.6.8"
  }
 },
 "nbformat": 4,
 "nbformat_minor": 2
}
